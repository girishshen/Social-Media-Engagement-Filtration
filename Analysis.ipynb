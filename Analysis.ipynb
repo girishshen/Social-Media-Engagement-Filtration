{
 "cells": [
  {
   "metadata": {},
   "cell_type": "markdown",
   "source": [
    "<div style=\"\n",
    "    background: linear-gradient(45deg,\n",
    "        #d6eaf8,\n",
    "        #f2f4f4 20%,\n",
    "        #ffe5b4 40%,\n",
    "        #ffffcc 60%,\n",
    "        #d1f2eb 80%,\n",
    "        #f3e5f5 100%\n",
    "    );\n",
    "    padding: 20px;\n",
    "    margin: 20px 0;\n",
    "    border-radius: 10px;\n",
    "    box-shadow: 5px 5px 15px rgba(0, 0, 0, 0.3);\n",
    "    font-family: Arial, sans-serif;\n",
    "    color: #333;\n",
    "    text-align: center;\n",
    "\">\n",
    "<h1><strong>Social Media Engagement Analysis </strong></h1>\n",
    "</div>"
   ],
   "id": "442f96fde6e68084"
  },
  {
   "metadata": {},
   "cell_type": "markdown",
   "source": [
    "<div style=\"\n",
    "    background: linear-gradient(45deg,\n",
    "        #d6eaf8,\n",
    "        #f2f4f4 20%,\n",
    "        #ffe5b4 40%,\n",
    "        #ffffcc 60%,\n",
    "        #d1f2eb 80%,\n",
    "        #f3e5f5 100%\n",
    "    );\n",
    "    padding: 20px;\n",
    "    margin: 20px 0;\n",
    "    border-radius: 10px;\n",
    "    box-shadow: 5px 5px 15px rgba(0, 0, 0, 0.3);\n",
    "    font-family: Arial, sans-serif;\n",
    "    color: #333;\n",
    "    text-align: center;\n",
    "\">\n",
    "<h2><strong>Author: - Girish Shenoy </strong></h2>\n",
    "</div>"
   ],
   "id": "6577868a3c248502"
  },
  {
   "metadata": {},
   "cell_type": "markdown",
   "source": [
    "# 1. Data Collection & Preprocessing\n",
    "# 2. Define Key Engagement Metrics\n",
    "# 3. Create Visualizations\n",
    "# 4. Popular Content & Posting Pattern Analysis\n",
    "# 5. Recommendations Engine"
   ],
   "id": "bb2a2ae4be9bde27"
  },
  {
   "metadata": {},
   "cell_type": "markdown",
   "source": [
    "<div style=\"\n",
    "    background: linear-gradient(45deg,\n",
    "        #d6eaf8 0%,\n",
    "        #d6eaf8 10%,\n",
    "        #f2f4f4 10%,\n",
    "        #f2f4f4 20%,\n",
    "        #ffe5b4 20%,\n",
    "        #ffe5b4 30%,\n",
    "        #ffffcc 30%,\n",
    "        #ffffcc 40%,\n",
    "        #d1f2eb 40%,\n",
    "        #d1f2eb 50%,\n",
    "        #f3e5f5 50%,\n",
    "        #f3e5f5 60%,\n",
    "        #ffe4e1 60%,\n",
    "        #ffe4e1 70%\n",
    "    );\n",
    "    color: #333;\n",
    "    padding: 10px;\n",
    "    box-shadow: 5px 5px 15px rgba(0, 0, 0, 0.3);\n",
    "    border-radius: 10px;\n",
    "\">\n",
    "    <h2><strong>Step 1 - Importing Libraries</strong></h2>\n",
    "</div>"
   ],
   "id": "fb430d2e12a056bc"
  },
  {
   "metadata": {
    "ExecuteTime": {
     "end_time": "2025-04-30T08:42:46.711216Z",
     "start_time": "2025-04-30T08:42:46.705504Z"
    }
   },
   "cell_type": "code",
   "source": [
    "import pandas as pd\n",
    "import matplotlib.pyplot as plt\n",
    "import seaborn as sns"
   ],
   "id": "f9ddec270f49a62c",
   "outputs": [],
   "execution_count": 1
  },
  {
   "metadata": {
    "ExecuteTime": {
     "end_time": "2025-04-30T08:42:46.785236Z",
     "start_time": "2025-04-30T08:42:46.739273Z"
    }
   },
   "cell_type": "code",
   "source": [
    "df = pd.read_csv(\"data/raw/Viral_Social_Media_Trends.csv\")\n",
    "df.describe()"
   ],
   "id": "68c4fc2366bd7a7e",
   "outputs": [
    {
     "data": {
      "text/plain": [
       "              Views          Likes        Shares      Comments\n",
       "count  5.000000e+03    5000.000000   5000.000000   5000.000000\n",
       "mean   2.494066e+06  251475.029800  50519.562000  24888.393800\n",
       "std    1.459490e+06  144349.583384  29066.362671  14284.504319\n",
       "min    1.266000e+03     490.000000     52.000000     18.000000\n",
       "25%    1.186207e+06  126892.250000  25029.000000  12305.250000\n",
       "50%    2.497373e+06  249443.000000  50839.500000  25004.000000\n",
       "75%    3.759781e+06  373970.750000  75774.250000  37072.750000\n",
       "max    4.999430e+06  499922.000000  99978.000000  49993.000000"
      ],
      "text/html": [
       "<div>\n",
       "<style scoped>\n",
       "    .dataframe tbody tr th:only-of-type {\n",
       "        vertical-align: middle;\n",
       "    }\n",
       "\n",
       "    .dataframe tbody tr th {\n",
       "        vertical-align: top;\n",
       "    }\n",
       "\n",
       "    .dataframe thead th {\n",
       "        text-align: right;\n",
       "    }\n",
       "</style>\n",
       "<table border=\"1\" class=\"dataframe\">\n",
       "  <thead>\n",
       "    <tr style=\"text-align: right;\">\n",
       "      <th></th>\n",
       "      <th>Views</th>\n",
       "      <th>Likes</th>\n",
       "      <th>Shares</th>\n",
       "      <th>Comments</th>\n",
       "    </tr>\n",
       "  </thead>\n",
       "  <tbody>\n",
       "    <tr>\n",
       "      <th>count</th>\n",
       "      <td>5.000000e+03</td>\n",
       "      <td>5000.000000</td>\n",
       "      <td>5000.000000</td>\n",
       "      <td>5000.000000</td>\n",
       "    </tr>\n",
       "    <tr>\n",
       "      <th>mean</th>\n",
       "      <td>2.494066e+06</td>\n",
       "      <td>251475.029800</td>\n",
       "      <td>50519.562000</td>\n",
       "      <td>24888.393800</td>\n",
       "    </tr>\n",
       "    <tr>\n",
       "      <th>std</th>\n",
       "      <td>1.459490e+06</td>\n",
       "      <td>144349.583384</td>\n",
       "      <td>29066.362671</td>\n",
       "      <td>14284.504319</td>\n",
       "    </tr>\n",
       "    <tr>\n",
       "      <th>min</th>\n",
       "      <td>1.266000e+03</td>\n",
       "      <td>490.000000</td>\n",
       "      <td>52.000000</td>\n",
       "      <td>18.000000</td>\n",
       "    </tr>\n",
       "    <tr>\n",
       "      <th>25%</th>\n",
       "      <td>1.186207e+06</td>\n",
       "      <td>126892.250000</td>\n",
       "      <td>25029.000000</td>\n",
       "      <td>12305.250000</td>\n",
       "    </tr>\n",
       "    <tr>\n",
       "      <th>50%</th>\n",
       "      <td>2.497373e+06</td>\n",
       "      <td>249443.000000</td>\n",
       "      <td>50839.500000</td>\n",
       "      <td>25004.000000</td>\n",
       "    </tr>\n",
       "    <tr>\n",
       "      <th>75%</th>\n",
       "      <td>3.759781e+06</td>\n",
       "      <td>373970.750000</td>\n",
       "      <td>75774.250000</td>\n",
       "      <td>37072.750000</td>\n",
       "    </tr>\n",
       "    <tr>\n",
       "      <th>max</th>\n",
       "      <td>4.999430e+06</td>\n",
       "      <td>499922.000000</td>\n",
       "      <td>99978.000000</td>\n",
       "      <td>49993.000000</td>\n",
       "    </tr>\n",
       "  </tbody>\n",
       "</table>\n",
       "</div>"
      ]
     },
     "execution_count": 2,
     "metadata": {},
     "output_type": "execute_result"
    }
   ],
   "execution_count": 2
  },
  {
   "metadata": {
    "ExecuteTime": {
     "end_time": "2025-04-30T08:42:47.069249Z",
     "start_time": "2025-04-30T08:42:47.062806Z"
    }
   },
   "cell_type": "code",
   "source": "print(f\"Loaded {df.shape[0]} records and {df.shape[1]} columns.\")",
   "id": "f34d2f5e18c35aaf",
   "outputs": [
    {
     "name": "stdout",
     "output_type": "stream",
     "text": [
      "Loaded 5000 records and 10 columns.\n"
     ]
    }
   ],
   "execution_count": 3
  },
  {
   "metadata": {
    "ExecuteTime": {
     "end_time": "2025-04-30T08:42:47.156751Z",
     "start_time": "2025-04-30T08:42:47.148341Z"
    }
   },
   "cell_type": "code",
   "source": "df.dtypes",
   "id": "7ecbafbadbd8fbe",
   "outputs": [
    {
     "data": {
      "text/plain": [
       "Post_ID             object\n",
       "Platform            object\n",
       "Hashtag             object\n",
       "Content_Type        object\n",
       "Region              object\n",
       "Views                int64\n",
       "Likes                int64\n",
       "Shares               int64\n",
       "Comments             int64\n",
       "Engagement_Level    object\n",
       "dtype: object"
      ]
     },
     "execution_count": 4,
     "metadata": {},
     "output_type": "execute_result"
    }
   ],
   "execution_count": 4
  },
  {
   "cell_type": "code",
   "id": "initial_id",
   "metadata": {
    "collapsed": true,
    "ExecuteTime": {
     "end_time": "2025-04-30T08:42:47.321036Z",
     "start_time": "2025-04-30T08:42:47.308622Z"
    }
   },
   "source": "df.info()",
   "outputs": [
    {
     "name": "stdout",
     "output_type": "stream",
     "text": [
      "<class 'pandas.core.frame.DataFrame'>\n",
      "RangeIndex: 5000 entries, 0 to 4999\n",
      "Data columns (total 10 columns):\n",
      " #   Column            Non-Null Count  Dtype \n",
      "---  ------            --------------  ----- \n",
      " 0   Post_ID           5000 non-null   object\n",
      " 1   Platform          5000 non-null   object\n",
      " 2   Hashtag           5000 non-null   object\n",
      " 3   Content_Type      5000 non-null   object\n",
      " 4   Region            5000 non-null   object\n",
      " 5   Views             5000 non-null   int64 \n",
      " 6   Likes             5000 non-null   int64 \n",
      " 7   Shares            5000 non-null   int64 \n",
      " 8   Comments          5000 non-null   int64 \n",
      " 9   Engagement_Level  5000 non-null   object\n",
      "dtypes: int64(4), object(6)\n",
      "memory usage: 390.8+ KB\n"
     ]
    }
   ],
   "execution_count": 5
  },
  {
   "metadata": {
    "ExecuteTime": {
     "end_time": "2025-04-30T08:42:47.420070Z",
     "start_time": "2025-04-30T08:42:47.405760Z"
    }
   },
   "cell_type": "code",
   "source": "df.head()",
   "id": "90103d7212e04075",
   "outputs": [
    {
     "data": {
      "text/plain": [
       "  Post_ID   Platform     Hashtag Content_Type     Region    Views   Likes  \\\n",
       "0  Post_1     TikTok  #Challenge        Video         UK  4163464  339431   \n",
       "1  Post_2  Instagram  #Education       Shorts      India  4155940  215240   \n",
       "2  Post_3    Twitter  #Challenge        Video     Brazil  3666211  327143   \n",
       "3  Post_4    YouTube  #Education       Shorts  Australia   917951  127125   \n",
       "4  Post_5     TikTok      #Dance         Post     Brazil    64866  171361   \n",
       "\n",
       "   Shares  Comments Engagement_Level  \n",
       "0   53135     19346             High  \n",
       "1   65860     27239           Medium  \n",
       "2   39423     36223           Medium  \n",
       "3   11687     36806              Low  \n",
       "4   69581      6376           Medium  "
      ],
      "text/html": [
       "<div>\n",
       "<style scoped>\n",
       "    .dataframe tbody tr th:only-of-type {\n",
       "        vertical-align: middle;\n",
       "    }\n",
       "\n",
       "    .dataframe tbody tr th {\n",
       "        vertical-align: top;\n",
       "    }\n",
       "\n",
       "    .dataframe thead th {\n",
       "        text-align: right;\n",
       "    }\n",
       "</style>\n",
       "<table border=\"1\" class=\"dataframe\">\n",
       "  <thead>\n",
       "    <tr style=\"text-align: right;\">\n",
       "      <th></th>\n",
       "      <th>Post_ID</th>\n",
       "      <th>Platform</th>\n",
       "      <th>Hashtag</th>\n",
       "      <th>Content_Type</th>\n",
       "      <th>Region</th>\n",
       "      <th>Views</th>\n",
       "      <th>Likes</th>\n",
       "      <th>Shares</th>\n",
       "      <th>Comments</th>\n",
       "      <th>Engagement_Level</th>\n",
       "    </tr>\n",
       "  </thead>\n",
       "  <tbody>\n",
       "    <tr>\n",
       "      <th>0</th>\n",
       "      <td>Post_1</td>\n",
       "      <td>TikTok</td>\n",
       "      <td>#Challenge</td>\n",
       "      <td>Video</td>\n",
       "      <td>UK</td>\n",
       "      <td>4163464</td>\n",
       "      <td>339431</td>\n",
       "      <td>53135</td>\n",
       "      <td>19346</td>\n",
       "      <td>High</td>\n",
       "    </tr>\n",
       "    <tr>\n",
       "      <th>1</th>\n",
       "      <td>Post_2</td>\n",
       "      <td>Instagram</td>\n",
       "      <td>#Education</td>\n",
       "      <td>Shorts</td>\n",
       "      <td>India</td>\n",
       "      <td>4155940</td>\n",
       "      <td>215240</td>\n",
       "      <td>65860</td>\n",
       "      <td>27239</td>\n",
       "      <td>Medium</td>\n",
       "    </tr>\n",
       "    <tr>\n",
       "      <th>2</th>\n",
       "      <td>Post_3</td>\n",
       "      <td>Twitter</td>\n",
       "      <td>#Challenge</td>\n",
       "      <td>Video</td>\n",
       "      <td>Brazil</td>\n",
       "      <td>3666211</td>\n",
       "      <td>327143</td>\n",
       "      <td>39423</td>\n",
       "      <td>36223</td>\n",
       "      <td>Medium</td>\n",
       "    </tr>\n",
       "    <tr>\n",
       "      <th>3</th>\n",
       "      <td>Post_4</td>\n",
       "      <td>YouTube</td>\n",
       "      <td>#Education</td>\n",
       "      <td>Shorts</td>\n",
       "      <td>Australia</td>\n",
       "      <td>917951</td>\n",
       "      <td>127125</td>\n",
       "      <td>11687</td>\n",
       "      <td>36806</td>\n",
       "      <td>Low</td>\n",
       "    </tr>\n",
       "    <tr>\n",
       "      <th>4</th>\n",
       "      <td>Post_5</td>\n",
       "      <td>TikTok</td>\n",
       "      <td>#Dance</td>\n",
       "      <td>Post</td>\n",
       "      <td>Brazil</td>\n",
       "      <td>64866</td>\n",
       "      <td>171361</td>\n",
       "      <td>69581</td>\n",
       "      <td>6376</td>\n",
       "      <td>Medium</td>\n",
       "    </tr>\n",
       "  </tbody>\n",
       "</table>\n",
       "</div>"
      ]
     },
     "execution_count": 6,
     "metadata": {},
     "output_type": "execute_result"
    }
   ],
   "execution_count": 6
  },
  {
   "metadata": {
    "ExecuteTime": {
     "end_time": "2025-04-30T08:42:47.553411Z",
     "start_time": "2025-04-30T08:42:47.539257Z"
    }
   },
   "cell_type": "code",
   "source": "df.tail()",
   "id": "e65a4cc139d90e21",
   "outputs": [
    {
     "data": {
      "text/plain": [
       "        Post_ID   Platform     Hashtag Content_Type  Region    Views   Likes  \\\n",
       "4995  Post_4996    YouTube  #Education        Video   Japan  4258236  381509   \n",
       "4996  Post_4997  Instagram  #Education        Video      UK  4841525  166266   \n",
       "4997  Post_4998    YouTube    #Fashion       Shorts     USA  2004080   32401   \n",
       "4998  Post_4999  Instagram     #Gaming       Shorts  Canada  2221665   46996   \n",
       "4999  Post_5000  Instagram    #Fashion         Reel   Japan  2224007   72744   \n",
       "\n",
       "      Shares  Comments Engagement_Level  \n",
       "4995   59209      4674             High  \n",
       "4996   54841      4832           Medium  \n",
       "4997   75229     33875              Low  \n",
       "4998   12954     42832              Low  \n",
       "4999   29945     46381              Low  "
      ],
      "text/html": [
       "<div>\n",
       "<style scoped>\n",
       "    .dataframe tbody tr th:only-of-type {\n",
       "        vertical-align: middle;\n",
       "    }\n",
       "\n",
       "    .dataframe tbody tr th {\n",
       "        vertical-align: top;\n",
       "    }\n",
       "\n",
       "    .dataframe thead th {\n",
       "        text-align: right;\n",
       "    }\n",
       "</style>\n",
       "<table border=\"1\" class=\"dataframe\">\n",
       "  <thead>\n",
       "    <tr style=\"text-align: right;\">\n",
       "      <th></th>\n",
       "      <th>Post_ID</th>\n",
       "      <th>Platform</th>\n",
       "      <th>Hashtag</th>\n",
       "      <th>Content_Type</th>\n",
       "      <th>Region</th>\n",
       "      <th>Views</th>\n",
       "      <th>Likes</th>\n",
       "      <th>Shares</th>\n",
       "      <th>Comments</th>\n",
       "      <th>Engagement_Level</th>\n",
       "    </tr>\n",
       "  </thead>\n",
       "  <tbody>\n",
       "    <tr>\n",
       "      <th>4995</th>\n",
       "      <td>Post_4996</td>\n",
       "      <td>YouTube</td>\n",
       "      <td>#Education</td>\n",
       "      <td>Video</td>\n",
       "      <td>Japan</td>\n",
       "      <td>4258236</td>\n",
       "      <td>381509</td>\n",
       "      <td>59209</td>\n",
       "      <td>4674</td>\n",
       "      <td>High</td>\n",
       "    </tr>\n",
       "    <tr>\n",
       "      <th>4996</th>\n",
       "      <td>Post_4997</td>\n",
       "      <td>Instagram</td>\n",
       "      <td>#Education</td>\n",
       "      <td>Video</td>\n",
       "      <td>UK</td>\n",
       "      <td>4841525</td>\n",
       "      <td>166266</td>\n",
       "      <td>54841</td>\n",
       "      <td>4832</td>\n",
       "      <td>Medium</td>\n",
       "    </tr>\n",
       "    <tr>\n",
       "      <th>4997</th>\n",
       "      <td>Post_4998</td>\n",
       "      <td>YouTube</td>\n",
       "      <td>#Fashion</td>\n",
       "      <td>Shorts</td>\n",
       "      <td>USA</td>\n",
       "      <td>2004080</td>\n",
       "      <td>32401</td>\n",
       "      <td>75229</td>\n",
       "      <td>33875</td>\n",
       "      <td>Low</td>\n",
       "    </tr>\n",
       "    <tr>\n",
       "      <th>4998</th>\n",
       "      <td>Post_4999</td>\n",
       "      <td>Instagram</td>\n",
       "      <td>#Gaming</td>\n",
       "      <td>Shorts</td>\n",
       "      <td>Canada</td>\n",
       "      <td>2221665</td>\n",
       "      <td>46996</td>\n",
       "      <td>12954</td>\n",
       "      <td>42832</td>\n",
       "      <td>Low</td>\n",
       "    </tr>\n",
       "    <tr>\n",
       "      <th>4999</th>\n",
       "      <td>Post_5000</td>\n",
       "      <td>Instagram</td>\n",
       "      <td>#Fashion</td>\n",
       "      <td>Reel</td>\n",
       "      <td>Japan</td>\n",
       "      <td>2224007</td>\n",
       "      <td>72744</td>\n",
       "      <td>29945</td>\n",
       "      <td>46381</td>\n",
       "      <td>Low</td>\n",
       "    </tr>\n",
       "  </tbody>\n",
       "</table>\n",
       "</div>"
      ]
     },
     "execution_count": 7,
     "metadata": {},
     "output_type": "execute_result"
    }
   ],
   "execution_count": 7
  },
  {
   "metadata": {},
   "cell_type": "markdown",
   "source": [
    "<div style=\"\n",
    "    background: linear-gradient(45deg,\n",
    "        #d6eaf8 0%,\n",
    "        #d6eaf8 10%,\n",
    "        #f2f4f4 10%,\n",
    "        #f2f4f4 20%,\n",
    "        #ffe5b4 20%,\n",
    "        #ffe5b4 30%,\n",
    "        #ffffcc 30%,\n",
    "        #ffffcc 40%,\n",
    "        #d1f2eb 40%,\n",
    "        #d1f2eb 50%,\n",
    "        #f3e5f5 50%,\n",
    "        #f3e5f5 60%,\n",
    "        #ffe4e1 60%,\n",
    "        #ffe4e1 70%\n",
    "    );\n",
    "    color: #333;\n",
    "    padding: 10px;\n",
    "    box-shadow: 5px 5px 15px rgba(0, 0, 0, 0.3);\n",
    "    border-radius: 10px;\n",
    "\">\n",
    "    <h2><strong>Step 2 - Data Preprocessing</strong></h2>\n",
    "</div>"
   ],
   "id": "a5dbd88ad5da8079"
  },
  {
   "metadata": {
    "ExecuteTime": {
     "end_time": "2025-04-30T08:42:47.701593Z",
     "start_time": "2025-04-30T08:42:47.693412Z"
    }
   },
   "cell_type": "code",
   "source": [
    "# Checking for missing values\n",
    "print(\"Missing NULL values in the dataset:\")\n",
    "print(df.isnull().sum())"
   ],
   "id": "c098da547727daed",
   "outputs": [
    {
     "name": "stdout",
     "output_type": "stream",
     "text": [
      "Missing NULL values in the dataset:\n",
      "Post_ID             0\n",
      "Platform            0\n",
      "Hashtag             0\n",
      "Content_Type        0\n",
      "Region              0\n",
      "Views               0\n",
      "Likes               0\n",
      "Shares              0\n",
      "Comments            0\n",
      "Engagement_Level    0\n",
      "dtype: int64\n"
     ]
    }
   ],
   "execution_count": 8
  },
  {
   "metadata": {
    "ExecuteTime": {
     "end_time": "2025-04-30T08:42:47.923553Z",
     "start_time": "2025-04-30T08:42:47.910727Z"
    }
   },
   "cell_type": "code",
   "source": [
    "print(\"Missing N/A values in the dataset:\")\n",
    "print(df.isna().sum())"
   ],
   "id": "42f8de861fbf356a",
   "outputs": [
    {
     "name": "stdout",
     "output_type": "stream",
     "text": [
      "Missing N/A values in the dataset:\n",
      "Post_ID             0\n",
      "Platform            0\n",
      "Hashtag             0\n",
      "Content_Type        0\n",
      "Region              0\n",
      "Views               0\n",
      "Likes               0\n",
      "Shares              0\n",
      "Comments            0\n",
      "Engagement_Level    0\n",
      "dtype: int64\n"
     ]
    }
   ],
   "execution_count": 9
  },
  {
   "metadata": {
    "ExecuteTime": {
     "end_time": "2025-04-30T08:42:48.075088Z",
     "start_time": "2025-04-30T08:42:48.059545Z"
    }
   },
   "cell_type": "code",
   "source": [
    "# Clean missing values (if any)\n",
    "df.dropna(inplace=True)\n",
    "df.drop_duplicates(inplace=True)"
   ],
   "id": "f3a6810f485e7c26",
   "outputs": [],
   "execution_count": 10
  },
  {
   "metadata": {
    "ExecuteTime": {
     "end_time": "2025-04-30T08:42:48.190379Z",
     "start_time": "2025-04-30T08:42:48.181810Z"
    }
   },
   "cell_type": "code",
   "source": [
    "# Ensure correct types\n",
    "df[['Views', 'Likes', 'Shares', 'Comments']] = df[['Views', 'Likes', 'Shares', 'Comments']].astype(int)"
   ],
   "id": "73169e02cc92c76c",
   "outputs": [],
   "execution_count": 11
  },
  {
   "metadata": {},
   "cell_type": "markdown",
   "source": [
    "<div style=\"\n",
    "    background: linear-gradient(45deg,\n",
    "        #d6eaf8 0%,\n",
    "        #d6eaf8 10%,\n",
    "        #f2f4f4 10%,\n",
    "        #f2f4f4 20%,\n",
    "        #ffe5b4 20%,\n",
    "        #ffe5b4 30%,\n",
    "        #ffffcc 30%,\n",
    "        #ffffcc 40%,\n",
    "        #d1f2eb 40%,\n",
    "        #d1f2eb 50%,\n",
    "        #f3e5f5 50%,\n",
    "        #f3e5f5 60%,\n",
    "        #ffe4e1 60%,\n",
    "        #ffe4e1 70%\n",
    "    );\n",
    "    color: #333;\n",
    "    padding: 10px;\n",
    "    box-shadow: 5px 5px 15px rgba(0, 0, 0, 0.3);\n",
    "    border-radius: 10px;\n",
    "\">\n",
    "    <h2><strong>Step 3 - Define Key Engagement Metrics</strong></h2>\n",
    "</div>"
   ],
   "id": "7c1a819c3e908c7c"
  },
  {
   "metadata": {
    "ExecuteTime": {
     "end_time": "2025-04-30T08:42:48.271037Z",
     "start_time": "2025-04-30T08:42:48.261164Z"
    }
   },
   "cell_type": "code",
   "source": [
    "# Define Total Engagement\n",
    "df['Total_Engagement'] = df[['Likes', 'Shares', 'Comments']].sum(axis=1)"
   ],
   "id": "bd4312d24ef54473",
   "outputs": [],
   "execution_count": 12
  },
  {
   "metadata": {
    "ExecuteTime": {
     "end_time": "2025-04-30T08:42:48.344275Z",
     "start_time": "2025-04-30T08:42:48.338116Z"
    }
   },
   "cell_type": "code",
   "source": [
    "# Define Engagement Rate\n",
    "df['Engagement_Rate'] = (df['Total_Engagement'] / df['Views']).round(4)"
   ],
   "id": "ece94aab6cc1e7a0",
   "outputs": [],
   "execution_count": 13
  },
  {
   "metadata": {
    "ExecuteTime": {
     "end_time": "2025-04-30T08:42:48.382941Z",
     "start_time": "2025-04-30T08:42:48.375644Z"
    }
   },
   "cell_type": "code",
   "source": [
    "# Define Virality Score\n",
    "df['Virality_Score'] =  (2 * df['Shares'] + df['Likes'] + df['Comments']) / df['Views']"
   ],
   "id": "ab7c311220e75b68",
   "outputs": [],
   "execution_count": 14
  },
  {
   "metadata": {
    "ExecuteTime": {
     "end_time": "2025-04-30T08:42:48.410166Z",
     "start_time": "2025-04-30T08:42:48.402094Z"
    }
   },
   "cell_type": "code",
   "source": [
    "# Most Engaging Content Types\n",
    "engagement_by_type = df.groupby('Content_Type')['Engagement_Rate'].mean().sort_values(ascending=False)"
   ],
   "id": "9ef2f1ba5fd4c293",
   "outputs": [],
   "execution_count": 15
  },
  {
   "metadata": {
    "ExecuteTime": {
     "end_time": "2025-04-30T08:42:48.434237Z",
     "start_time": "2025-04-30T08:42:48.427867Z"
    }
   },
   "cell_type": "code",
   "source": [
    "# Most viral content types\n",
    "virality_by_type = df.groupby('Content_Type')['Virality_Score'].mean().sort_values(ascending=False)"
   ],
   "id": "b5075b9ee70aa856",
   "outputs": [],
   "execution_count": 16
  },
  {
   "metadata": {
    "ExecuteTime": {
     "end_time": "2025-04-30T08:42:48.474292Z",
     "start_time": "2025-04-30T08:42:48.463495Z"
    }
   },
   "cell_type": "code",
   "source": [
    "# Platform-Level Insights\n",
    "engagement_by_platform = df.groupby('Platform')['Engagement_Rate'].mean().sort_values(ascending=False)\n",
    "\n",
    "virality_by_platform = df.groupby('Platform')['Virality_Score'].mean().sort_values(ascending=False)"
   ],
   "id": "af3a51615feb8b7b",
   "outputs": [],
   "execution_count": 17
  },
  {
   "metadata": {
    "ExecuteTime": {
     "end_time": "2025-04-30T08:42:48.502726Z",
     "start_time": "2025-04-30T08:42:48.496679Z"
    }
   },
   "cell_type": "code",
   "source": [
    "# Posting Frequency\n",
    "content_frequency = df['Content_Type'].value_counts()"
   ],
   "id": "814b6b8d2ffc5817",
   "outputs": [],
   "execution_count": 18
  },
  {
   "metadata": {},
   "cell_type": "markdown",
   "source": [
    "<div style=\"\n",
    "    background: linear-gradient(45deg,\n",
    "        #d6eaf8 0%,\n",
    "        #d6eaf8 10%,\n",
    "        #f2f4f4 10%,\n",
    "        #f2f4f4 20%,\n",
    "        #ffe5b4 20%,\n",
    "        #ffe5b4 30%,\n",
    "        #ffffcc 30%,\n",
    "        #ffffcc 40%,\n",
    "        #d1f2eb 40%,\n",
    "        #d1f2eb 50%,\n",
    "        #f3e5f5 50%,\n",
    "        #f3e5f5 60%,\n",
    "        #ffe4e1 60%,\n",
    "        #ffe4e1 70%\n",
    "    );\n",
    "    color: #333;\n",
    "    padding: 10px;\n",
    "    box-shadow: 5px 5px 15px rgba(0, 0, 0, 0.3);\n",
    "    border-radius: 10px;\n",
    "\">\n",
    "    <h2><strong>Step 4 - Create Visualizations</strong></h2>\n",
    "</div>"
   ],
   "id": "7194dfa943a5a7a7"
  },
  {
   "metadata": {
    "ExecuteTime": {
     "end_time": "2025-04-30T08:42:48.797545Z",
     "start_time": "2025-04-30T08:42:48.537553Z"
    }
   },
   "cell_type": "code",
   "source": [
    "# Total Engagement Per Platform\n",
    "plt.figure(figsize=(10,6))\n",
    "sns.barplot(data=df, x='Platform', y='Total_Engagement', estimator=sum, errorbar=None)\n",
    "plt.title('Total Engagement by Platform')\n",
    "plt.xticks(rotation=0)\n",
    "plt.tight_layout()\n",
    "plt.show()"
   ],
   "id": "8bce15c89dbf4851",
   "outputs": [
    {
     "data": {
      "text/plain": [
       "<Figure size 1000x600 with 1 Axes>"
      ],
      "image/png": "[encoded data removed]"
     },
     "metadata": {},
     "output_type": "display_data"
    }
   ],
   "execution_count": 19
  },
  {
   "metadata": {
    "ExecuteTime": {
     "end_time": "2025-04-30T08:42:49.052834Z",
     "start_time": "2025-04-30T08:42:48.850267Z"
    }
   },
   "cell_type": "code",
   "source": [
    "# Top 5 Most Engaging Content Types\n",
    "engagement_by_type.head(5).plot(kind='bar', color='skyblue')\n",
    "plt.title('Top Engaging Content Types')\n",
    "plt.xticks(rotation=0)\n",
    "plt.ylabel('Average Engagement Rate')\n",
    "plt.tight_layout()\n",
    "plt.show()"
   ],
   "id": "eb939493c7379d29",
   "outputs": [
    {
     "data": {
      "text/plain": [
       "<Figure size 640x480 with 1 Axes>"
      ],
      "image/png": "[encoded data removed]"
     },
     "metadata": {},
     "output_type": "display_data"
    }
   ],
   "execution_count": 20
  },
  {
   "metadata": {
    "ExecuteTime": {
     "end_time": "2025-04-30T08:42:49.236665Z",
     "start_time": "2025-04-30T08:42:49.063711Z"
    }
   },
   "cell_type": "code",
   "source": [
    "# Top 5 Most Viral Content Types\n",
    "virality_by_type.head(5).plot(kind='bar', color='skyblue')\n",
    "plt.title('Top Virality Score Content Types')\n",
    "plt.xticks(rotation=0)\n",
    "plt.ylabel('Average Virality Score')\n",
    "plt.tight_layout()\n",
    "plt.show()"
   ],
   "id": "5ac633d1bfadc15d",
   "outputs": [
    {
     "data": {
      "text/plain": [
       "<Figure size 640x480 with 1 Axes>"
      ],
      "image/png": "[encoded data removed]"
     },
     "metadata": {},
     "output_type": "display_data"
    }
   ],
   "execution_count": 21
  },
  {
   "metadata": {
    "ExecuteTime": {
     "end_time": "2025-04-30T08:42:49.495593Z",
     "start_time": "2025-04-30T08:42:49.271298Z"
    }
   },
   "cell_type": "code",
   "source": [
    "# Analyze Posting Frequency\n",
    "plt.figure(figsize=(8,5))\n",
    "sns.countplot(data=df, x='Content_Type', order=df['Content_Type'].value_counts().index)\n",
    "plt.title('Content Type Frequency')\n",
    "plt.xticks(rotation=0)\n",
    "plt.tight_layout()\n",
    "plt.show()"
   ],
   "id": "dedfdc64f4fe9eb9",
   "outputs": [
    {
     "data": {
      "text/plain": [
       "<Figure size 800x500 with 1 Axes>"
      ],
      "image/png": "[encoded data removed]"
     },
     "metadata": {},
     "output_type": "display_data"
    }
   ],
   "execution_count": 22
  },
  {
   "metadata": {},
   "cell_type": "markdown",
   "source": [
    "<div style=\"\n",
    "    background: linear-gradient(45deg,\n",
    "        #d6eaf8 0%,\n",
    "        #d6eaf8 10%,\n",
    "        #f2f4f4 10%,\n",
    "        #f2f4f4 20%,\n",
    "        #ffe5b4 20%,\n",
    "        #ffe5b4 30%,\n",
    "        #ffffcc 30%,\n",
    "        #ffffcc 40%,\n",
    "        #d1f2eb 40%,\n",
    "        #d1f2eb 50%,\n",
    "        #f3e5f5 50%,\n",
    "        #f3e5f5 60%,\n",
    "        #ffe4e1 60%,\n",
    "        #ffe4e1 70%\n",
    "    );\n",
    "    color: #333;\n",
    "    padding: 10px;\n",
    "    box-shadow: 5px 5px 15px rgba(0, 0, 0, 0.3);\n",
    "    border-radius: 10px;\n",
    "\">\n",
    "    <h2><strong>Step 5 - Popular Content And Posting Pattern Analysis</strong></h2>\n",
    "</div>"
   ],
   "id": "de6a9aff229e6066"
  },
  {
   "metadata": {
    "ExecuteTime": {
     "end_time": "2025-04-30T08:42:49.521055Z",
     "start_time": "2025-04-30T08:42:49.508156Z"
    }
   },
   "cell_type": "code",
   "source": [
    "# Top 10 Most Engaging Posts\n",
    "top_posts = df.sort_values(by='Engagement_Rate', ascending=False).head(10)\n",
    "print(top_posts[['Post_ID', 'Platform', 'Hashtag', 'Content_Type', 'Engagement_Rate']])"
   ],
   "id": "6432cb51b0706ecb",
   "outputs": [
    {
     "name": "stdout",
     "output_type": "stream",
     "text": [
      "        Post_ID   Platform     Hashtag Content_Type  Engagement_Rate\n",
      "4826  Post_4827     TikTok      #Viral       Shorts         281.7417\n",
      "1540  Post_1541  Instagram     #Comedy  Live Stream          95.6916\n",
      "3686  Post_3687    YouTube       #Tech  Live Stream          82.5061\n",
      "2647  Post_2648    YouTube  #Challenge         Post          52.3775\n",
      "4691  Post_4692    Twitter  #Education       Shorts          47.7818\n",
      "1033  Post_1034  Instagram  #Education        Tweet          44.9951\n",
      "4991  Post_4992  Instagram    #Fashion       Shorts          43.3154\n",
      "4137  Post_4138  Instagram     #Comedy        Tweet          40.8121\n",
      "4284  Post_4285    YouTube     #Gaming  Live Stream          37.1453\n",
      "4571  Post_4572     TikTok     #Gaming        Video          34.9410\n"
     ]
    }
   ],
   "execution_count": 23
  },
  {
   "metadata": {
    "ExecuteTime": {
     "end_time": "2025-04-30T08:42:49.573685Z",
     "start_time": "2025-04-30T08:42:49.561157Z"
    }
   },
   "cell_type": "code",
   "source": [
    "# Top 10 most viral posts\n",
    "top_viral = df.sort_values(by='Virality_Score', ascending=False).head(10)\n",
    "print(top_viral[['Post_ID','Platform','Hashtag','Content_Type','Virality_Score']])"
   ],
   "id": "f76a90cdc2d2f774",
   "outputs": [
    {
     "name": "stdout",
     "output_type": "stream",
     "text": [
      "        Post_ID   Platform     Hashtag Content_Type  Virality_Score\n",
      "4826  Post_4827     TikTok      #Viral       Shorts      283.096367\n",
      "1540  Post_1541  Instagram     #Comedy  Live Stream      114.610456\n",
      "3686  Post_3687    YouTube       #Tech  Live Stream       97.087434\n",
      "2647  Post_2648    YouTube  #Challenge         Post       60.979960\n",
      "4691  Post_4692    Twitter  #Education       Shorts       55.253492\n",
      "1033  Post_1034  Instagram  #Education        Tweet       52.589081\n",
      "4991  Post_4992  Instagram    #Fashion       Shorts       52.500443\n",
      "4571  Post_4572     TikTok     #Gaming        Video       46.048424\n",
      "4137  Post_4138  Instagram     #Comedy        Tweet       43.693401\n",
      "4284  Post_4285    YouTube     #Gaming  Live Stream       38.744046\n"
     ]
    }
   ],
   "execution_count": 24
  },
  {
   "metadata": {
    "ExecuteTime": {
     "end_time": "2025-04-30T08:42:49.615708Z",
     "start_time": "2025-04-30T08:42:49.606100Z"
    }
   },
   "cell_type": "code",
   "source": [
    "# Top Content Types\n",
    "top_content = df.groupby('Content_Type')['Total_Engagement'].mean().sort_values(ascending=False)\n",
    "print(top_content)"
   ],
   "id": "638fe639bbad5fa5",
   "outputs": [
    {
     "name": "stdout",
     "output_type": "stream",
     "text": [
      "Content_Type\n",
      "Reel           331592.342449\n",
      "Video          330077.925121\n",
      "Post           327503.341149\n",
      "Tweet          325447.910287\n",
      "Live Stream    323901.211696\n",
      "Shorts         322580.567980\n",
      "Name: Total_Engagement, dtype: float64\n"
     ]
    }
   ],
   "execution_count": 25
  },
  {
   "metadata": {
    "ExecuteTime": {
     "end_time": "2025-04-30T08:42:49.667716Z",
     "start_time": "2025-04-30T08:42:49.659360Z"
    }
   },
   "cell_type": "code",
   "source": [
    "# Top Viral Types\n",
    "top_viral = df.groupby('Content_Type')['Virality_Score'].mean().sort_values(ascending=False)\n",
    "print(top_viral)"
   ],
   "id": "6881c798a3e8a267",
   "outputs": [
    {
     "name": "stdout",
     "output_type": "stream",
     "text": [
      "Content_Type\n",
      "Shorts         0.877650\n",
      "Live Stream    0.719394\n",
      "Tweet          0.604945\n",
      "Post           0.578443\n",
      "Video          0.569196\n",
      "Reel           0.552119\n",
      "Name: Virality_Score, dtype: float64\n"
     ]
    }
   ],
   "execution_count": 26
  },
  {
   "metadata": {
    "ExecuteTime": {
     "end_time": "2025-04-30T08:42:49.718290Z",
     "start_time": "2025-04-30T08:42:49.702160Z"
    }
   },
   "cell_type": "code",
   "source": "df.head()",
   "id": "502be4107d161908",
   "outputs": [
    {
     "data": {
      "text/plain": [
       "  Post_ID   Platform     Hashtag Content_Type     Region    Views   Likes  \\\n",
       "0  Post_1     TikTok  #Challenge        Video         UK  4163464  339431   \n",
       "1  Post_2  Instagram  #Education       Shorts      India  4155940  215240   \n",
       "2  Post_3    Twitter  #Challenge        Video     Brazil  3666211  327143   \n",
       "3  Post_4    YouTube  #Education       Shorts  Australia   917951  127125   \n",
       "4  Post_5     TikTok      #Dance         Post     Brazil    64866  171361   \n",
       "\n",
       "   Shares  Comments Engagement_Level  Total_Engagement  Engagement_Rate  \\\n",
       "0   53135     19346             High            411912           0.0989   \n",
       "1   65860     27239           Medium            308339           0.0742   \n",
       "2   39423     36223           Medium            402789           0.1099   \n",
       "3   11687     36806              Low            175618           0.1913   \n",
       "4   69581      6376           Medium            247318           3.8128   \n",
       "\n",
       "   Virality_Score  \n",
       "0        0.111697  \n",
       "1        0.090040  \n",
       "2        0.120618  \n",
       "3        0.204047  \n",
       "4        4.885441  "
      ],
      "text/html": [
       "<div>\n",
       "<style scoped>\n",
       "    .dataframe tbody tr th:only-of-type {\n",
       "        vertical-align: middle;\n",
       "    }\n",
       "\n",
       "    .dataframe tbody tr th {\n",
       "        vertical-align: top;\n",
       "    }\n",
       "\n",
       "    .dataframe thead th {\n",
       "        text-align: right;\n",
       "    }\n",
       "</style>\n",
       "<table border=\"1\" class=\"dataframe\">\n",
       "  <thead>\n",
       "    <tr style=\"text-align: right;\">\n",
       "      <th></th>\n",
       "      <th>Post_ID</th>\n",
       "      <th>Platform</th>\n",
       "      <th>Hashtag</th>\n",
       "      <th>Content_Type</th>\n",
       "      <th>Region</th>\n",
       "      <th>Views</th>\n",
       "      <th>Likes</th>\n",
       "      <th>Shares</th>\n",
       "      <th>Comments</th>\n",
       "      <th>Engagement_Level</th>\n",
       "      <th>Total_Engagement</th>\n",
       "      <th>Engagement_Rate</th>\n",
       "      <th>Virality_Score</th>\n",
       "    </tr>\n",
       "  </thead>\n",
       "  <tbody>\n",
       "    <tr>\n",
       "      <th>0</th>\n",
       "      <td>Post_1</td>\n",
       "      <td>TikTok</td>\n",
       "      <td>#Challenge</td>\n",
       "      <td>Video</td>\n",
       "      <td>UK</td>\n",
       "      <td>4163464</td>\n",
       "      <td>339431</td>\n",
       "      <td>53135</td>\n",
       "      <td>19346</td>\n",
       "      <td>High</td>\n",
       "      <td>411912</td>\n",
       "      <td>0.0989</td>\n",
       "      <td>0.111697</td>\n",
       "    </tr>\n",
       "    <tr>\n",
       "      <th>1</th>\n",
       "      <td>Post_2</td>\n",
       "      <td>Instagram</td>\n",
       "      <td>#Education</td>\n",
       "      <td>Shorts</td>\n",
       "      <td>India</td>\n",
       "      <td>4155940</td>\n",
       "      <td>215240</td>\n",
       "      <td>65860</td>\n",
       "      <td>27239</td>\n",
       "      <td>Medium</td>\n",
       "      <td>308339</td>\n",
       "      <td>0.0742</td>\n",
       "      <td>0.090040</td>\n",
       "    </tr>\n",
       "    <tr>\n",
       "      <th>2</th>\n",
       "      <td>Post_3</td>\n",
       "      <td>Twitter</td>\n",
       "      <td>#Challenge</td>\n",
       "      <td>Video</td>\n",
       "      <td>Brazil</td>\n",
       "      <td>3666211</td>\n",
       "      <td>327143</td>\n",
       "      <td>39423</td>\n",
       "      <td>36223</td>\n",
       "      <td>Medium</td>\n",
       "      <td>402789</td>\n",
       "      <td>0.1099</td>\n",
       "      <td>0.120618</td>\n",
       "    </tr>\n",
       "    <tr>\n",
       "      <th>3</th>\n",
       "      <td>Post_4</td>\n",
       "      <td>YouTube</td>\n",
       "      <td>#Education</td>\n",
       "      <td>Shorts</td>\n",
       "      <td>Australia</td>\n",
       "      <td>917951</td>\n",
       "      <td>127125</td>\n",
       "      <td>11687</td>\n",
       "      <td>36806</td>\n",
       "      <td>Low</td>\n",
       "      <td>175618</td>\n",
       "      <td>0.1913</td>\n",
       "      <td>0.204047</td>\n",
       "    </tr>\n",
       "    <tr>\n",
       "      <th>4</th>\n",
       "      <td>Post_5</td>\n",
       "      <td>TikTok</td>\n",
       "      <td>#Dance</td>\n",
       "      <td>Post</td>\n",
       "      <td>Brazil</td>\n",
       "      <td>64866</td>\n",
       "      <td>171361</td>\n",
       "      <td>69581</td>\n",
       "      <td>6376</td>\n",
       "      <td>Medium</td>\n",
       "      <td>247318</td>\n",
       "      <td>3.8128</td>\n",
       "      <td>4.885441</td>\n",
       "    </tr>\n",
       "  </tbody>\n",
       "</table>\n",
       "</div>"
      ]
     },
     "execution_count": 27,
     "metadata": {},
     "output_type": "execute_result"
    }
   ],
   "execution_count": 27
  },
  {
   "metadata": {
    "ExecuteTime": {
     "end_time": "2025-04-30T08:42:49.815419Z",
     "start_time": "2025-04-30T08:42:49.808885Z"
    }
   },
   "cell_type": "code",
   "source": "print(f\"Loaded {df.shape[0]} records and {df.shape[1]} columns.\")",
   "id": "a489563ded44f591",
   "outputs": [
    {
     "name": "stdout",
     "output_type": "stream",
     "text": [
      "Loaded 5000 records and 13 columns.\n"
     ]
    }
   ],
   "execution_count": 28
  },
  {
   "metadata": {
    "ExecuteTime": {
     "end_time": "2025-04-30T08:42:49.965426Z",
     "start_time": "2025-04-30T08:42:49.917185Z"
    }
   },
   "cell_type": "code",
   "source": [
    "# Save the cleaned data\n",
    "df.to_csv(\"data/cleaned/Cleaned_Data.csv\")"
   ],
   "id": "a81fce488d63443c",
   "outputs": [],
   "execution_count": 29
  },
  {
   "metadata": {
    "ExecuteTime": {
     "end_time": "2025-04-30T08:42:50.080521Z",
     "start_time": "2025-04-30T08:42:50.072444Z"
    }
   },
   "cell_type": "code",
   "source": [
    "# Recommendation logic\n",
    "print(\"💡 RECOMMENDATIONS:\")\n",
    "print(\"- Focus on platforms with high engagement rates like:\", engagement_by_platform.idxmax())\n",
    "print(\"- Use content types like\", engagement_by_type.idxmax(), \"which perform best on average.\")\n",
    "print(\"- Increase frequency of content types that show both high engagement and are underutilized.\")"
   ],
   "id": "fb74822fe8c36e23",
   "outputs": [
    {
     "name": "stdout",
     "output_type": "stream",
     "text": [
      "💡 RECOMMENDATIONS:\n",
      "- Focus on platforms with high engagement rates like: Instagram\n",
      "- Use content types like Shorts which perform best on average.\n",
      "- Increase frequency of content types that show both high engagement and are underutilized.\n"
     ]
    }
   ],
   "execution_count": 30
  },
  {
   "metadata": {
    "ExecuteTime": {
     "end_time": "2025-04-30T08:42:50.149726Z",
     "start_time": "2025-04-30T08:42:50.143419Z"
    }
   },
   "cell_type": "code",
   "source": [
    "print(\"💡 RECOMMENDATIONS:\")\n",
    "print(f\"- Prioritize platforms like {engagement_by_platform.idxmax()} for overall engagement.\")\n",
    "print(f\"- Double down on content types like {engagement_by_type.idxmax()} for engagement and {virality_by_type.idxmax()} for virality.\")\n",
    "print(\"- Balance your mix: high-engagement vs. high-virality posts to maximize reach.\")"
   ],
   "id": "38d2f0cfb08144d7",
   "outputs": [
    {
     "name": "stdout",
     "output_type": "stream",
     "text": [
      "💡 RECOMMENDATIONS:\n",
      "- Prioritize platforms like Instagram for overall engagement.\n",
      "- Double down on content types like Shorts for engagement and Shorts for virality.\n",
      "- Balance your mix: high-engagement vs. high-virality posts to maximize reach.\n"
     ]
    }
   ],
   "execution_count": 31
  },
  {
   "metadata": {
    "ExecuteTime": {
     "end_time": "2025-04-30T08:42:50.190122Z",
     "start_time": "2025-04-30T08:42:50.185406Z"
    }
   },
   "cell_type": "code",
   "source": "",
   "id": "4f641951977058d2",
   "outputs": [],
   "execution_count": null
  }
 ],
 "metadata": {
  "kernelspec": {
   "display_name": "Python 3",
   "language": "python",
   "name": "python3"
  },
  "language_info": {
   "codemirror_mode": {
    "name": "ipython",
    "version": 2
   },
   "file_extension": ".py",
   "mimetype": "text/x-python",
   "name": "python",
   "nbconvert_exporter": "python",
   "pygments_lexer": "ipython2",
   "version": "2.7.6"
  }
 },
 "nbformat": 4,
 "nbformat_minor": 5
}
